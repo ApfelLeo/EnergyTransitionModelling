{
 "cells": [
  {
   "cell_type": "markdown",
   "metadata": {},
   "source": [
    "### Imports"
   ]
  },
  {
   "cell_type": "code",
   "execution_count": 7,
   "metadata": {
    "collapsed": true
   },
   "outputs": [],
   "source": [
    "import requests\n",
    "import pandas as pd"
   ]
  },
  {
   "cell_type": "markdown",
   "metadata": {},
   "source": [
    "### Sandbox"
   ]
  },
  {
   "cell_type": "code",
   "execution_count": 17,
   "metadata": {},
   "outputs": [],
   "source": [
    "'''request data from ETM-API'''\n",
    "\n",
    "# NL\n",
    "r_nl = requests.get('https://engine.energytransitionmodel.com/api/v3/areas/nl')\n",
    "\n",
    "# All areas\n",
    "r_all = requests.get('https://engine.energytransitionmodel.com/api/v3/areas/')\n"
   ]
  },
  {
   "cell_type": "code",
   "execution_count": 36,
   "metadata": {},
   "outputs": [],
   "source": [
    "df = pd.DataFrame.from_dict(r_all.json())\n",
    "df = df.set_index('area').sort_index(ascending=True) #set index to area\n",
    "df = df.loc[df.base_dataset == 'nl'] # select only recent dutch data\n",
    "df.to_excel('ETM_Data.xlsx')\n",
    "# df.columns"
   ]
  },
  {
   "cell_type": "code",
   "execution_count": 37,
   "metadata": {},
   "outputs": [
    {
     "data": {
      "text/plain": [
       "Index(['analysis_year', 'annual_infrastructure_cost_gas', 'areable_land',\n",
       "       'base_dataset', 'buildings_insulation_employment_constant',\n",
       "       'buildings_roof_surface_available_for_pv', 'ccs_cost_in_industry',\n",
       "       'co2_emission_1990', 'co2_emission_1990_aviation_bunkers',\n",
       "       'co2_emission_1990_marine_bunkers',\n",
       "       ...\n",
       "       'typical_roof_surface_terraced_house_available_for_pv',\n",
       "       'typical_useful_demand_space_heating_apartment',\n",
       "       'typical_useful_demand_space_heating_corner_house',\n",
       "       'typical_useful_demand_space_heating_detached_house',\n",
       "       'typical_useful_demand_space_heating_semi_detached_house',\n",
       "       'typical_useful_demand_space_heating_terraced_house',\n",
       "       'use_merit_order_demands', 'use_network_calculations', 'useable',\n",
       "       'uses_deprecated_initializer_inputs'],\n",
       "      dtype='object', length=139)"
      ]
     },
     "execution_count": 37,
     "metadata": {},
     "output_type": "execute_result"
    }
   ],
   "source": [
    "df.columns"
   ]
  },
  {
   "cell_type": "code",
   "execution_count": 39,
   "metadata": {},
   "outputs": [
    {
     "data": {
      "text/html": [
       "<div>\n",
       "<style scoped>\n",
       "    .dataframe tbody tr th:only-of-type {\n",
       "        vertical-align: middle;\n",
       "    }\n",
       "\n",
       "    .dataframe tbody tr th {\n",
       "        vertical-align: top;\n",
       "    }\n",
       "\n",
       "    .dataframe thead th {\n",
       "        text-align: right;\n",
       "    }\n",
       "</style>\n",
       "<table border=\"1\" class=\"dataframe\">\n",
       "  <thead>\n",
       "    <tr style=\"text-align: right;\">\n",
       "      <th></th>\n",
       "      <th>analysis_year</th>\n",
       "      <th>annual_infrastructure_cost_gas</th>\n",
       "      <th>areable_land</th>\n",
       "      <th>base_dataset</th>\n",
       "      <th>buildings_insulation_employment_constant</th>\n",
       "      <th>buildings_roof_surface_available_for_pv</th>\n",
       "      <th>ccs_cost_in_industry</th>\n",
       "      <th>co2_emission_1990</th>\n",
       "      <th>co2_emission_1990_aviation_bunkers</th>\n",
       "      <th>co2_emission_1990_marine_bunkers</th>\n",
       "      <th>...</th>\n",
       "      <th>typical_roof_surface_terraced_house_available_for_pv</th>\n",
       "      <th>typical_useful_demand_space_heating_apartment</th>\n",
       "      <th>typical_useful_demand_space_heating_corner_house</th>\n",
       "      <th>typical_useful_demand_space_heating_detached_house</th>\n",
       "      <th>typical_useful_demand_space_heating_semi_detached_house</th>\n",
       "      <th>typical_useful_demand_space_heating_terraced_house</th>\n",
       "      <th>use_merit_order_demands</th>\n",
       "      <th>use_network_calculations</th>\n",
       "      <th>useable</th>\n",
       "      <th>uses_deprecated_initializer_inputs</th>\n",
       "    </tr>\n",
       "    <tr>\n",
       "      <th>group</th>\n",
       "      <th></th>\n",
       "      <th></th>\n",
       "      <th></th>\n",
       "      <th></th>\n",
       "      <th></th>\n",
       "      <th></th>\n",
       "      <th></th>\n",
       "      <th></th>\n",
       "      <th></th>\n",
       "      <th></th>\n",
       "      <th></th>\n",
       "      <th></th>\n",
       "      <th></th>\n",
       "      <th></th>\n",
       "      <th></th>\n",
       "      <th></th>\n",
       "      <th></th>\n",
       "      <th></th>\n",
       "      <th></th>\n",
       "      <th></th>\n",
       "      <th></th>\n",
       "    </tr>\n",
       "  </thead>\n",
       "  <tbody>\n",
       "    <tr>\n",
       "      <th>municipality</th>\n",
       "      <td>251</td>\n",
       "      <td>251</td>\n",
       "      <td>251</td>\n",
       "      <td>251</td>\n",
       "      <td>251</td>\n",
       "      <td>251</td>\n",
       "      <td>251</td>\n",
       "      <td>251</td>\n",
       "      <td>251</td>\n",
       "      <td>251</td>\n",
       "      <td>...</td>\n",
       "      <td>251</td>\n",
       "      <td>251</td>\n",
       "      <td>251</td>\n",
       "      <td>251</td>\n",
       "      <td>251</td>\n",
       "      <td>251</td>\n",
       "      <td>251</td>\n",
       "      <td>251</td>\n",
       "      <td>251</td>\n",
       "      <td>251</td>\n",
       "    </tr>\n",
       "    <tr>\n",
       "      <th>neighbourhood</th>\n",
       "      <td>135</td>\n",
       "      <td>135</td>\n",
       "      <td>135</td>\n",
       "      <td>135</td>\n",
       "      <td>135</td>\n",
       "      <td>135</td>\n",
       "      <td>135</td>\n",
       "      <td>135</td>\n",
       "      <td>135</td>\n",
       "      <td>135</td>\n",
       "      <td>...</td>\n",
       "      <td>135</td>\n",
       "      <td>135</td>\n",
       "      <td>135</td>\n",
       "      <td>135</td>\n",
       "      <td>135</td>\n",
       "      <td>135</td>\n",
       "      <td>135</td>\n",
       "      <td>135</td>\n",
       "      <td>135</td>\n",
       "      <td>135</td>\n",
       "    </tr>\n",
       "    <tr>\n",
       "      <th>province</th>\n",
       "      <td>10</td>\n",
       "      <td>10</td>\n",
       "      <td>10</td>\n",
       "      <td>10</td>\n",
       "      <td>10</td>\n",
       "      <td>10</td>\n",
       "      <td>10</td>\n",
       "      <td>10</td>\n",
       "      <td>10</td>\n",
       "      <td>10</td>\n",
       "      <td>...</td>\n",
       "      <td>10</td>\n",
       "      <td>10</td>\n",
       "      <td>10</td>\n",
       "      <td>10</td>\n",
       "      <td>10</td>\n",
       "      <td>10</td>\n",
       "      <td>10</td>\n",
       "      <td>10</td>\n",
       "      <td>10</td>\n",
       "      <td>10</td>\n",
       "    </tr>\n",
       "    <tr>\n",
       "      <th>region</th>\n",
       "      <td>30</td>\n",
       "      <td>30</td>\n",
       "      <td>30</td>\n",
       "      <td>30</td>\n",
       "      <td>30</td>\n",
       "      <td>30</td>\n",
       "      <td>30</td>\n",
       "      <td>30</td>\n",
       "      <td>30</td>\n",
       "      <td>30</td>\n",
       "      <td>...</td>\n",
       "      <td>30</td>\n",
       "      <td>30</td>\n",
       "      <td>30</td>\n",
       "      <td>30</td>\n",
       "      <td>30</td>\n",
       "      <td>30</td>\n",
       "      <td>30</td>\n",
       "      <td>30</td>\n",
       "      <td>30</td>\n",
       "      <td>30</td>\n",
       "    </tr>\n",
       "  </tbody>\n",
       "</table>\n",
       "<p>4 rows × 138 columns</p>\n",
       "</div>"
      ],
      "text/plain": [
       "               analysis_year  annual_infrastructure_cost_gas  areable_land  \\\n",
       "group                                                                        \n",
       "municipality             251                             251           251   \n",
       "neighbourhood            135                             135           135   \n",
       "province                  10                              10            10   \n",
       "region                    30                              30            30   \n",
       "\n",
       "               base_dataset  buildings_insulation_employment_constant  \\\n",
       "group                                                                   \n",
       "municipality            251                                       251   \n",
       "neighbourhood           135                                       135   \n",
       "province                 10                                        10   \n",
       "region                   30                                        30   \n",
       "\n",
       "               buildings_roof_surface_available_for_pv  ccs_cost_in_industry  \\\n",
       "group                                                                          \n",
       "municipality                                       251                   251   \n",
       "neighbourhood                                      135                   135   \n",
       "province                                            10                    10   \n",
       "region                                              30                    30   \n",
       "\n",
       "               co2_emission_1990  co2_emission_1990_aviation_bunkers  \\\n",
       "group                                                                  \n",
       "municipality                 251                                 251   \n",
       "neighbourhood                135                                 135   \n",
       "province                      10                                  10   \n",
       "region                        30                                  30   \n",
       "\n",
       "               co2_emission_1990_marine_bunkers  ...  \\\n",
       "group                                            ...   \n",
       "municipality                                251  ...   \n",
       "neighbourhood                               135  ...   \n",
       "province                                     10  ...   \n",
       "region                                       30  ...   \n",
       "\n",
       "               typical_roof_surface_terraced_house_available_for_pv  \\\n",
       "group                                                                 \n",
       "municipality                                                 251      \n",
       "neighbourhood                                                135      \n",
       "province                                                      10      \n",
       "region                                                        30      \n",
       "\n",
       "               typical_useful_demand_space_heating_apartment  \\\n",
       "group                                                          \n",
       "municipality                                             251   \n",
       "neighbourhood                                            135   \n",
       "province                                                  10   \n",
       "region                                                    30   \n",
       "\n",
       "               typical_useful_demand_space_heating_corner_house  \\\n",
       "group                                                             \n",
       "municipality                                                251   \n",
       "neighbourhood                                               135   \n",
       "province                                                     10   \n",
       "region                                                       30   \n",
       "\n",
       "               typical_useful_demand_space_heating_detached_house  \\\n",
       "group                                                               \n",
       "municipality                                                 251    \n",
       "neighbourhood                                                135    \n",
       "province                                                      10    \n",
       "region                                                        30    \n",
       "\n",
       "               typical_useful_demand_space_heating_semi_detached_house  \\\n",
       "group                                                                    \n",
       "municipality                                                 251         \n",
       "neighbourhood                                                135         \n",
       "province                                                      10         \n",
       "region                                                        30         \n",
       "\n",
       "               typical_useful_demand_space_heating_terraced_house  \\\n",
       "group                                                               \n",
       "municipality                                                 251    \n",
       "neighbourhood                                                135    \n",
       "province                                                      10    \n",
       "region                                                        30    \n",
       "\n",
       "               use_merit_order_demands  use_network_calculations  useable  \\\n",
       "group                                                                       \n",
       "municipality                       251                       251      251   \n",
       "neighbourhood                      135                       135      135   \n",
       "province                            10                        10       10   \n",
       "region                              30                        30       30   \n",
       "\n",
       "               uses_deprecated_initializer_inputs  \n",
       "group                                              \n",
       "municipality                                  251  \n",
       "neighbourhood                                 135  \n",
       "province                                       10  \n",
       "region                                         30  \n",
       "\n",
       "[4 rows x 138 columns]"
      ]
     },
     "execution_count": 39,
     "metadata": {},
     "output_type": "execute_result"
    }
   ],
   "source": [
    "df.groupby('group').count()"
   ]
  },
  {
   "cell_type": "code",
   "execution_count": null,
   "metadata": {
    "collapsed": true
   },
   "outputs": [],
   "source": []
  },
  {
   "cell_type": "code",
   "execution_count": null,
   "metadata": {
    "collapsed": true
   },
   "outputs": [],
   "source": []
  },
  {
   "cell_type": "code",
   "execution_count": null,
   "metadata": {
    "collapsed": true
   },
   "outputs": [],
   "source": []
  },
  {
   "cell_type": "code",
   "execution_count": null,
   "metadata": {
    "collapsed": true
   },
   "outputs": [],
   "source": []
  },
  {
   "cell_type": "code",
   "execution_count": 2,
   "metadata": {},
   "outputs": [
    {
     "ename": "SyntaxError",
     "evalue": "invalid syntax (<ipython-input-2-10f8d18e8a9f>, line 1)",
     "output_type": "error",
     "traceback": [
      "\u001b[1;36m  File \u001b[1;32m\"<ipython-input-2-10f8d18e8a9f>\"\u001b[1;36m, line \u001b[1;32m1\u001b[0m\n\u001b[1;33m    curl -i https://engine.energytransitionmodel.com/api/v3/areas/\u001b[0m\n\u001b[1;37m                ^\u001b[0m\n\u001b[1;31mSyntaxError\u001b[0m\u001b[1;31m:\u001b[0m invalid syntax\n"
     ]
    }
   ],
   "source": [
    "r = requests.get('https://engine.energytransitionmodel.com/api/v3/areas/nl')"
   ]
  },
  {
   "cell_type": "code",
   "execution_count": 8,
   "metadata": {},
   "outputs": [
    {
     "data": {
      "text/plain": [
       "<Response [200]>"
      ]
     },
     "execution_count": 8,
     "metadata": {},
     "output_type": "execute_result"
    }
   ],
   "source": [
    "url = 'https://engine.energytransitionmodel.com/api/v3/areas/nl'\n",
    "\n",
    "requests.get(url)"
   ]
  },
  {
   "cell_type": "code",
   "execution_count": 12,
   "metadata": {},
   "outputs": [
    {
     "ename": "NameError",
     "evalue": "name 'payload' is not defined",
     "output_type": "error",
     "traceback": [
      "\u001b[1;31m---------------------------------------------------------------------------\u001b[0m",
      "\u001b[1;31mNameError\u001b[0m                                 Traceback (most recent call last)",
      "\u001b[1;32m<ipython-input-12-65316981700e>\u001b[0m in \u001b[0;36m<module>\u001b[1;34m()\u001b[0m\n\u001b[0;32m      3\u001b[0m \u001b[1;31m# payload = open(\":.json\")\u001b[0m\u001b[1;33m\u001b[0m\u001b[1;33m\u001b[0m\u001b[0m\n\u001b[0;32m      4\u001b[0m \u001b[0mheaders\u001b[0m \u001b[1;33m=\u001b[0m \u001b[1;33m{\u001b[0m\u001b[1;34m'content-type'\u001b[0m\u001b[1;33m:\u001b[0m \u001b[1;34m'application/json'\u001b[0m\u001b[1;33m,\u001b[0m \u001b[1;34m'Accept-Charset'\u001b[0m\u001b[1;33m:\u001b[0m \u001b[1;34m'UTF-8'\u001b[0m\u001b[1;33m}\u001b[0m\u001b[1;33m\u001b[0m\u001b[0m\n\u001b[1;32m----> 5\u001b[1;33m \u001b[0mr\u001b[0m \u001b[1;33m=\u001b[0m \u001b[0mrequests\u001b[0m\u001b[1;33m.\u001b[0m\u001b[0mpost\u001b[0m\u001b[1;33m(\u001b[0m\u001b[0murl\u001b[0m\u001b[1;33m,\u001b[0m \u001b[0mdata\u001b[0m\u001b[1;33m=\u001b[0m\u001b[0mpayload\u001b[0m\u001b[1;33m,\u001b[0m \u001b[0mheaders\u001b[0m\u001b[1;33m=\u001b[0m\u001b[0mheaders\u001b[0m\u001b[1;33m)\u001b[0m\u001b[1;33m\u001b[0m\u001b[0m\n\u001b[0m",
      "\u001b[1;31mNameError\u001b[0m: name 'payload' is not defined"
     ]
    }
   ],
   "source": [
    "import requests\n",
    "url = 'https://engine.energytransitionmodel.com/api/v3/areas/nl'\n",
    "# payload = open(\":.json\")\n",
    "headers = {'content-type': 'application/json', 'Accept-Charset': 'UTF-8'}\n",
    "r = requests.post(url, data=payload, headers=headers)"
   ]
  }
 ],
 "metadata": {
  "kernelspec": {
   "display_name": "Python 3",
   "language": "python",
   "name": "python3"
  },
  "language_info": {
   "codemirror_mode": {
    "name": "ipython",
    "version": 3
   },
   "file_extension": ".py",
   "mimetype": "text/x-python",
   "name": "python",
   "nbconvert_exporter": "python",
   "pygments_lexer": "ipython3",
   "version": "3.6.6"
  }
 },
 "nbformat": 4,
 "nbformat_minor": 2
}
