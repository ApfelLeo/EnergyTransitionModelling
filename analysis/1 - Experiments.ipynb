{
 "cells": [
  {
   "cell_type": "markdown",
   "metadata": {},
   "source": [
    "# Experiments"
   ]
  },
  {
   "cell_type": "markdown",
   "metadata": {},
   "source": [
    "* Notebook to run experiments on the EnergyTransition model available at the [EnergyTransitionModelling](https://github.com/markhupkens/EnergyTransitionModelling ) repository. \n",
    "* This exploratory analysis heavily depends on the EMA-Workbench package [Read the docs](https://emaworkbench.readthedocs.io)\n",
    "\n",
    "E: m.hupkens@student.tudelft.nl    "
   ]
  },
  {
   "cell_type": "markdown",
   "metadata": {},
   "source": [
    "Table of contents"
   ]
  },
  {
   "cell_type": "markdown",
   "metadata": {},
   "source": [
    "## 0. Importing packages"
   ]
  },
  {
   "cell_type": "code",
   "execution_count": null,
   "metadata": {
    "collapsed": true
   },
   "outputs": [],
   "source": [
    "import numpy as np\n",
    "import pandas as pd\n",
    "import matplotlib.pyplot as plt\n",
    "\n",
    "from ema_workbench import (Model, RealParameter, TimeSeriesOutcome, Constant, Policy, \n",
    "                           perform_experiments,ema_logging, save_results)\n",
    "from ema_workbench.connectors.pysd_connector import PysdModel\n",
    "from ema_workbench.em_framework.evaluators import LHS, SOBOL, MORRIS\n",
    "ema_logging.log_to_stderr(ema_logging.INFO)"
   ]
  },
  {
   "cell_type": "markdown",
   "metadata": {},
   "source": [
    "## 1. Modelrun without policies (baseline)"
   ]
  },
  {
   "cell_type": "code",
   "execution_count": null,
   "metadata": {
    "collapsed": true
   },
   "outputs": [],
   "source": [
    "'''Defining the model'''\n",
    "\n",
    "et_model = PysdModel('PySD', mdl_file='model/disease_model_base.mdl') # define modelfile location\n",
    "\n",
    "et_model.uncertainties = uncertainties\n",
    "et_model.outcomes = outcomes\n",
    "et_model.constants = constants\n",
    "\n",
    "'''Defining key uncertainties and outcomes'''\n",
    "\n",
    "uncertainties = [RealParameter('average_incubation_time', 0.5, 14), # define uncertainties (Parameter, lowerbound, upperbound)\n",
    "                 RealParameter('average_infectious_period', 7, 21),\n",
    "                 RealParameter('basic_reproduction_number', 0.5, 5),\n",
    "                 RealParameter('case_fatality_rate', 0.01, 0.5),\n",
    "                 RealParameter('switch_seir_or_sir', 0, 1)\n",
    "                ]\n",
    " \n",
    "outcomes = [TimeSeriesOutcome('deceased_population'),\n",
    "            TimeSeriesOutcome('total_infected'),\n",
    "                                 ]\n",
    "constants = [Constant('initial_deceased_population', 0),\n",
    "             Constant('initial_exposed_population', 0),\n",
    "             Constant('initial_infectious_population', 1),\n",
    "             Constant('initial_recovered_population', 0),\n",
    "             Constant('initial_susceptible_population', 100000)\n",
    "            ]\n",
    "\n",
    "'''Experiment setup'''\n",
    "\n",
    "n_experiments = 200\n",
    "results_lhs = perform_experiments([et_model], n_experiments, uncertainty_sampling=LHS) # Latin Hypercube Sampling\n",
    "save_results(results_lhs, 'data/PRIM/et_model_1000_runs_no_policy.gz')"
   ]
  },
  {
   "cell_type": "code",
   "execution_count": null,
   "metadata": {
    "collapsed": true
   },
   "outputs": [],
   "source": []
  }
 ],
 "metadata": {
  "kernelspec": {
   "display_name": "Python 3",
   "language": "python",
   "name": "python3"
  },
  "language_info": {
   "codemirror_mode": {
    "name": "ipython",
    "version": 3
   },
   "file_extension": ".py",
   "mimetype": "text/x-python",
   "name": "python",
   "nbconvert_exporter": "python",
   "pygments_lexer": "ipython3",
   "version": "3.6.6"
  }
 },
 "nbformat": 4,
 "nbformat_minor": 2
}
